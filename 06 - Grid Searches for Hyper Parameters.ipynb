{
 "cells": [
  {
   "cell_type": "code",
   "execution_count": 1,
   "metadata": {
    "collapsed": true
   },
   "outputs": [],
   "source": [
    "%matplotlib nbagg\n",
    "import matplotlib.pyplot as plt\n",
    "import numpy as np"
   ]
  },
  {
   "cell_type": "markdown",
   "metadata": {},
   "source": [
    "Grid Searches\n",
    "================="
   ]
  },
  {
   "cell_type": "markdown",
   "metadata": {},
   "source": [
    "Grid-Search with build-in cross validation"
   ]
  },
  {
   "cell_type": "code",
   "execution_count": 2,
   "metadata": {
    "collapsed": false
   },
   "outputs": [],
   "source": [
    "from sklearn.grid_search import GridSearchCV\n",
    "from sklearn.svm import SVC"
   ]
  },
  {
   "cell_type": "code",
   "execution_count": 3,
   "metadata": {
    "collapsed": false
   },
   "outputs": [],
   "source": [
    "from sklearn.datasets import load_digits\n",
    "from sklearn.cross_validation import train_test_split\n",
    "digits = load_digits()\n",
    "X_train, X_test, y_train, y_test = train_test_split(digits.data, digits.target)"
   ]
  },
  {
   "cell_type": "markdown",
   "metadata": {},
   "source": [
    "Define parameter grid:"
   ]
  },
  {
   "cell_type": "code",
   "execution_count": 4,
   "metadata": {
    "collapsed": false
   },
   "outputs": [
    {
     "name": "stdout",
     "output_type": "stream",
     "text": [
      "{'C': array([   0.001,    0.01 ,    0.1  ,    1.   ,   10.   ,  100.   ]), 'gamma': array([ 0.00001,  0.0001 ,  0.001  ,  0.01   ,  0.1    ])}\n"
     ]
    }
   ],
   "source": [
    "import numpy as np\n",
    "\n",
    "param_grid = {'C': 10. ** np.arange(-3, 3),\n",
    "              'gamma' : 10. ** np.arange(-5, 0)}\n",
    "\n",
    "np.set_printoptions(suppress=True)\n",
    "print(param_grid)"
   ]
  },
  {
   "cell_type": "code",
   "execution_count": 5,
   "metadata": {
    "collapsed": false
   },
   "outputs": [],
   "source": [
    "grid_search = GridSearchCV(SVC(), param_grid, verbose=3)"
   ]
  },
  {
   "cell_type": "markdown",
   "metadata": {},
   "source": [
    "A GridSearchCV object behaves just like a normal classifier."
   ]
  },
  {
   "cell_type": "code",
   "execution_count": 6,
   "metadata": {
    "collapsed": false
   },
   "outputs": [
    {
     "name": "stdout",
     "output_type": "stream",
     "text": [
      "Fitting 3 folds for each of 30 candidates, totalling 90 fits\n",
      "[CV] C=0.001, gamma=1e-05 ............................................\n",
      "[CV] ................... C=0.001, gamma=1e-05, score=0.294248 -   0.2s\n",
      "[CV] C=0.001, gamma=1e-05 ............................................\n",
      "[CV] ................... C=0.001, gamma=1e-05, score=0.200445 -   0.2s\n",
      "[CV] C=0.001, gamma=1e-05 ............................................\n",
      "[CV] ................... C=0.001, gamma=1e-05, score=0.206278 -   0.2s\n",
      "[CV] C=0.001, gamma=0.0001 ...........................................\n",
      "[CV] .................. C=0.001, gamma=0.0001, score=0.294248 -   0.2s\n",
      "[CV] C=0.001, gamma=0.0001 ...........................................\n",
      "[CV] .................. C=0.001, gamma=0.0001, score=0.204900 -   0.2s\n",
      "[CV] C=0.001, gamma=0.0001 ...........................................\n",
      "[CV] .................. C=0.001, gamma=0.0001, score=0.208520 -   0.3s\n",
      "[CV] C=0.001, gamma=0.001 ............................................\n",
      "[CV] ................... C=0.001, gamma=0.001, score=0.300885 -   0.2s\n",
      "[CV] C=0.001, gamma=0.001 ............................................\n",
      "[CV] ................... C=0.001, gamma=0.001, score=0.195991 -   0.2s\n",
      "[CV] C=0.001, gamma=0.001 ............................................\n",
      "[CV] ................... C=0.001, gamma=0.001, score=0.192825 -   0.2s\n",
      "[CV] C=0.001, gamma=0.01 .............................................\n",
      "[CV] .................... C=0.001, gamma=0.01, score=0.152655 -   0.2s\n",
      "[CV] C=0.001, gamma=0.01 .............................................\n",
      "[CV] .................... C=0.001, gamma=0.01, score=0.133630 -   0.2s\n",
      "[CV] C=0.001, gamma=0.01 .............................................\n",
      "[CV] .................... C=0.001, gamma=0.01, score=0.147982 -   0.2s\n",
      "[CV] C=0.001, gamma=0.1 ..............................................\n",
      "[CV] ..................... C=0.001, gamma=0.1, score=0.110619 -   0.2s\n",
      "[CV] C=0.001, gamma=0.1 ..............................................\n",
      "[CV] ..................... C=0.001, gamma=0.1, score=0.104677 -   0.2s\n",
      "[CV] C=0.001, gamma=0.1 ..............................................\n",
      "[CV] ..................... C=0.001, gamma=0.1, score=0.107623 -   0.2s\n",
      "[CV] C=0.01, gamma=1e-05 .............................................\n",
      "[CV] .................... C=0.01, gamma=1e-05, score=0.294248 -   0.2s\n",
      "[CV] C=0.01, gamma=1e-05 .............................................\n",
      "[CV] .................... C=0.01, gamma=1e-05, score=0.200445 -   0.2s\n",
      "[CV] C=0.01, gamma=1e-05 .............................................\n",
      "[CV] .................... C=0.01, gamma=1e-05, score=0.206278 -   0.2s\n",
      "[CV] C=0.01, gamma=0.0001 ............................................\n",
      "[CV] ................... C=0.01, gamma=0.0001, score=0.294248 -   0.2s\n",
      "[CV] C=0.01, gamma=0.0001 ............................................\n",
      "[CV] ................... C=0.01, gamma=0.0001, score=0.204900 -   0.2s\n",
      "[CV] C=0.01, gamma=0.0001 ............................................\n",
      "[CV] ................... C=0.01, gamma=0.0001, score=0.208520 -   0.3s\n",
      "[CV] C=0.01, gamma=0.001 .............................................\n",
      "[CV] .................... C=0.01, gamma=0.001, score=0.300885 -   0.3s\n",
      "[CV] C=0.01, gamma=0.001 .............................................\n",
      "[CV] .................... C=0.01, gamma=0.001, score=0.195991 -   0.2s\n",
      "[CV] C=0.01, gamma=0.001 .............................................\n",
      "[CV] .................... C=0.01, gamma=0.001, score=0.192825 -   0.3s\n",
      "[CV] C=0.01, gamma=0.01 ..............................................\n",
      "[CV] ..................... C=0.01, gamma=0.01, score=0.152655 -   0.2s\n",
      "[CV] C=0.01, gamma=0.01 ..............................................\n",
      "[CV] ..................... C=0.01, gamma=0.01, score=0.133630 -   0.3s\n",
      "[CV] C=0.01, gamma=0.01 ..............................................\n",
      "[CV] ..................... C=0.01, gamma=0.01, score=0.147982 -   0.3s\n",
      "[CV] C=0.01, gamma=0.1 ...............................................\n",
      "[CV] ...................... C=0.01, gamma=0.1, score=0.110619 -   0.2s\n",
      "[CV] C=0.01, gamma=0.1 ...............................................\n",
      "[CV] ...................... C=0.01, gamma=0.1, score=0.104677 -   0.2s\n",
      "[CV] C=0.01, gamma=0.1 ...............................................\n",
      "[CV] ...................... C=0.01, gamma=0.1, score=0.107623 -   0.2s\n",
      "[CV] C=0.1, gamma=1e-05 ..............................................\n",
      "[CV] ..................... C=0.1, gamma=1e-05, score=0.294248 -   0.2s\n",
      "[CV] C=0.1, gamma=1e-05 ..............................................\n",
      "[CV] ..................... C=0.1, gamma=1e-05, score=0.200445 -   0.2s\n",
      "[CV] C=0.1, gamma=1e-05 ..............................................\n",
      "[CV] ..................... C=0.1, gamma=1e-05, score=0.206278 -   0.2s\n",
      "[CV] C=0.1, gamma=0.0001 .............................................\n",
      "[CV] .................... C=0.1, gamma=0.0001, score=0.816372 -   0.2s\n",
      "[CV] C=0.1, gamma=0.0001 .............................................\n",
      "[CV] .................... C=0.1, gamma=0.0001, score=0.821826 -   0.2s\n",
      "[CV] C=0.1, gamma=0.0001 .............................................\n",
      "[CV] .................... C=0.1, gamma=0.0001, score=0.827354 -   0.2s\n",
      "[CV] C=0.1, gamma=0.001 ..............................................\n",
      "[CV] ..................... C=0.1, gamma=0.001, score=0.957965 -   0.1s\n",
      "[CV] C=0.1, gamma=0.001 ..............................................\n",
      "[CV] ..................... C=0.1, gamma=0.001, score=0.935412 -   0.1s\n",
      "[CV] C=0.1, gamma=0.001 ..............................................\n",
      "[CV] ..................... C=0.1, gamma=0.001, score=0.946188 -   0.1s\n",
      "[CV] C=0.1, gamma=0.01 ...............................................\n",
      "[CV] ...................... C=0.1, gamma=0.01, score=0.152655 -   0.2s\n",
      "[CV] C=0.1, gamma=0.01 ...............................................\n",
      "[CV] ...................... C=0.1, gamma=0.01, score=0.133630 -   0.2s\n",
      "[CV] C=0.1, gamma=0.01 ...............................................\n",
      "[CV] ...................... C=0.1, gamma=0.01, score=0.147982 -   0.2s\n",
      "[CV] C=0.1, gamma=0.1 ................................................\n",
      "[CV] ....................... C=0.1, gamma=0.1, score=0.110619 -   0.2s\n",
      "[CV] C=0.1, gamma=0.1 ................................................\n",
      "[CV] ....................... C=0.1, gamma=0.1, score=0.104677 -   0.2s\n",
      "[CV] C=0.1, gamma=0.1 ................................................\n",
      "[CV] ....................... C=0.1, gamma=0.1, score=0.107623 -   0.2s\n",
      "[CV] C=1.0, gamma=1e-05 ..............................................\n",
      "[CV] ..................... C=1.0, gamma=1e-05, score=0.851770 -   0.2s\n",
      "[CV] C=1.0, gamma=1e-05 ..............................................\n",
      "[CV] ..................... C=1.0, gamma=1e-05, score=0.837416 -   0.3s\n",
      "[CV] C=1.0, gamma=1e-05 ..............................................\n",
      "[CV] ..................... C=1.0, gamma=1e-05, score=0.858744 -   0.2s\n",
      "[CV] C=1.0, gamma=0.0001 .............................................\n",
      "[CV] .................... C=1.0, gamma=0.0001, score=0.971239 -   0.1s\n",
      "[CV] C=1.0, gamma=0.0001 .............................................\n",
      "[CV] .................... C=1.0, gamma=0.0001, score=0.953229 -   0.1s\n",
      "[CV] C=1.0, gamma=0.0001 .............................................\n",
      "[CV] .................... C=1.0, gamma=0.0001, score=0.955157 -   0.1s\n",
      "[CV] C=1.0, gamma=0.001 ..............................................\n",
      "[CV] ..................... C=1.0, gamma=0.001, score=0.991150 -   0.1s\n",
      "[CV] C=1.0, gamma=0.001 ..............................................\n",
      "[CV] ..................... C=1.0, gamma=0.001, score=0.982183 -   0.1s\n",
      "[CV] C=1.0, gamma=0.001 ..............................................\n",
      "[CV] ..................... C=1.0, gamma=0.001, score=0.988789 -   0.1s\n",
      "[CV] C=1.0, gamma=0.01 ...............................................\n",
      "[CV] ...................... C=1.0, gamma=0.01, score=0.694690 -   0.2s\n",
      "[CV] C=1.0, gamma=0.01 ...............................................\n",
      "[CV] ...................... C=1.0, gamma=0.01, score=0.726058 -   0.2s\n",
      "[CV] C=1.0, gamma=0.01 ...............................................\n",
      "[CV] ...................... C=1.0, gamma=0.01, score=0.670404 -   0.2s\n",
      "[CV] C=1.0, gamma=0.1 ................................................\n",
      "[CV] ....................... C=1.0, gamma=0.1, score=0.115044 -   0.2s\n",
      "[CV] C=1.0, gamma=0.1 ................................................\n",
      "[CV] ....................... C=1.0, gamma=0.1, score=0.109131 -   0.3s\n",
      "[CV] C=1.0, gamma=0.1 ................................................\n",
      "[CV] ....................... C=1.0, gamma=0.1, score=0.107623 -   0.3s\n",
      "[CV] C=10.0, gamma=1e-05 .............................................\n",
      "[CV] .................... C=10.0, gamma=1e-05, score=0.969027 -   0.1s\n",
      "[CV] C=10.0, gamma=1e-05 .............................................\n",
      "[CV] .................... C=10.0, gamma=1e-05, score=0.948775 -   0.1s\n",
      "[CV] C=10.0, gamma=1e-05 .............................................\n",
      "[CV] .................... C=10.0, gamma=1e-05, score=0.959641 -   0.1s\n",
      "[CV] C=10.0, gamma=0.0001 ............................................\n",
      "[CV] ................... C=10.0, gamma=0.0001, score=0.982301 -   0.1s\n",
      "[CV] C=10.0, gamma=0.0001 ............................................\n",
      "[CV] ................... C=10.0, gamma=0.0001, score=0.975501 -   0.1s\n",
      "[CV] C=10.0, gamma=0.0001 ............................................\n",
      "[CV] ................... C=10.0, gamma=0.0001, score=0.982063 -   0.1s\n",
      "[CV] C=10.0, gamma=0.001 .............................................\n",
      "[CV] .................... C=10.0, gamma=0.001, score=0.991150 -   0.1s\n",
      "[CV] C=10.0, gamma=0.001 .............................................\n",
      "[CV] .................... C=10.0, gamma=0.001, score=0.988864 -   0.1s\n",
      "[CV] C=10.0, gamma=0.001 .............................................\n",
      "[CV] .................... C=10.0, gamma=0.001, score=0.988789 -   0.1s\n",
      "[CV] C=10.0, gamma=0.01 ..............................................\n",
      "[CV] ..................... C=10.0, gamma=0.01, score=0.732301 -   0.2s\n",
      "[CV] C=10.0, gamma=0.01 ..............................................\n",
      "[CV] ..................... C=10.0, gamma=0.01, score=0.741648 -   0.2s\n",
      "[CV] C=10.0, gamma=0.01 ..............................................\n",
      "[CV] ..................... C=10.0, gamma=0.01, score=0.692825 -   0.2s\n",
      "[CV] C=10.0, gamma=0.1 ...............................................\n",
      "[CV] ...................... C=10.0, gamma=0.1, score=0.115044 -   0.2s\n",
      "[CV] C=10.0, gamma=0.1 ...............................................\n",
      "[CV] ...................... C=10.0, gamma=0.1, score=0.109131 -   0.2s\n",
      "[CV] C=10.0, gamma=0.1 ...............................................\n",
      "[CV] ...................... C=10.0, gamma=0.1, score=0.107623 -   0.2s\n",
      "[CV] C=100.0, gamma=1e-05 ............................................\n",
      "[CV] ................... C=100.0, gamma=1e-05, score=0.982301 -   0.1s\n",
      "[CV] C=100.0, gamma=1e-05 ............................................\n",
      "[CV] ................... C=100.0, gamma=1e-05, score=0.973274 -   0.1s\n",
      "[CV] C=100.0, gamma=1e-05 ............................................\n",
      "[CV] ................... C=100.0, gamma=1e-05, score=0.975336 -   0.1s\n",
      "[CV] C=100.0, gamma=0.0001 ...........................................\n",
      "[CV] .................. C=100.0, gamma=0.0001, score=0.982301 -   0.1s\n",
      "[CV] C=100.0, gamma=0.0001 ...........................................\n",
      "[CV] .................. C=100.0, gamma=0.0001, score=0.977728 -   0.1s\n",
      "[CV] C=100.0, gamma=0.0001 ...........................................\n",
      "[CV] .................. C=100.0, gamma=0.0001, score=0.979821 -   0.1s\n",
      "[CV] C=100.0, gamma=0.001 ............................................\n",
      "[CV] ................... C=100.0, gamma=0.001, score=0.991150 -   0.1s\n",
      "[CV] C=100.0, gamma=0.001 ............................................\n",
      "[CV] ................... C=100.0, gamma=0.001, score=0.988864 -   0.1s\n",
      "[CV] C=100.0, gamma=0.001 ............................................\n",
      "[CV] ................... C=100.0, gamma=0.001, score=0.988789 -   0.1s\n",
      "[CV] C=100.0, gamma=0.01 .............................................\n",
      "[CV] .................... C=100.0, gamma=0.01, score=0.732301 -   0.2s\n",
      "[CV] C=100.0, gamma=0.01 .............................................\n",
      "[CV] .................... C=100.0, gamma=0.01, score=0.741648 -   0.2s\n",
      "[CV] C=100.0, gamma=0.01 .............................................\n",
      "[CV] .................... C=100.0, gamma=0.01, score=0.692825 -   0.2s\n",
      "[CV] C=100.0, gamma=0.1 ..............................................\n",
      "[CV] ..................... C=100.0, gamma=0.1, score=0.115044 -   0.2s\n",
      "[CV] C=100.0, gamma=0.1 ..............................................\n",
      "[CV] ..................... C=100.0, gamma=0.1, score=0.109131 -   0.2s\n",
      "[CV] C=100.0, gamma=0.1 ..............................................\n",
      "[CV] ..................... C=100.0, gamma=0.1, score=0.107623 -   0.2s"
     ]
    },
    {
     "name": "stderr",
     "output_type": "stream",
     "text": [
      "[Parallel(n_jobs=1)]: Done  31 tasks       | elapsed:    6.5s\n",
      "[Parallel(n_jobs=1)]: Done  90 out of  90 | elapsed:   15.6s finished\n"
     ]
    },
    {
     "name": "stdout",
     "output_type": "stream",
     "text": [
      "\n"
     ]
    },
    {
     "data": {
      "text/plain": [
       "GridSearchCV(cv=None, error_score='raise',\n",
       "       estimator=SVC(C=1.0, cache_size=200, class_weight=None, coef0=0.0,\n",
       "  decision_function_shape=None, degree=3, gamma='auto', kernel='rbf',\n",
       "  max_iter=-1, probability=False, random_state=None, shrinking=True,\n",
       "  tol=0.001, verbose=False),\n",
       "       fit_params={}, iid=True, n_jobs=1,\n",
       "       param_grid={'C': array([   0.001,    0.01 ,    0.1  ,    1.   ,   10.   ,  100.   ]), 'gamma': array([ 0.00001,  0.0001 ,  0.001  ,  0.01   ,  0.1    ])},\n",
       "       pre_dispatch='2*n_jobs', refit=True, scoring=None, verbose=3)"
      ]
     },
     "execution_count": 6,
     "metadata": {},
     "output_type": "execute_result"
    }
   ],
   "source": [
    "grid_search.fit(X_train, y_train)"
   ]
  },
  {
   "cell_type": "code",
   "execution_count": 7,
   "metadata": {
    "collapsed": false
   },
   "outputs": [
    {
     "data": {
      "text/plain": [
       "array([4, 6, 3, 0, 3, 0, 4, 3, 5, 9, 1, 6, 9, 6, 4, 2, 7, 4, 7, 9, 9, 0, 7,\n",
       "       1, 6, 1, 4, 2, 2, 6, 4, 7, 8, 1, 5, 6, 2, 3, 8, 6, 8, 7, 4, 0, 9, 5,\n",
       "       5, 4, 4, 1, 9, 6, 3, 8, 6, 5, 8, 8, 0, 0, 3, 2, 9, 3, 9, 3, 1, 5, 8,\n",
       "       4, 2, 7, 8, 0, 0, 5, 5, 6, 8, 9, 4, 9, 2, 5, 3, 8, 4, 9, 4, 7, 0, 4,\n",
       "       5, 7, 7, 3, 0, 0, 5, 3, 7, 1, 4, 2, 4, 4, 3, 8, 5, 5, 1, 9, 1, 3, 7,\n",
       "       1, 4, 7, 1, 2, 0, 7, 0, 4, 2, 2, 5, 3, 0, 4, 1, 2, 2, 5, 5, 6, 0, 9,\n",
       "       1, 1, 2, 5, 0, 7, 1, 4, 7, 7, 0, 7, 6, 6, 6, 8, 0, 6, 7, 3, 7, 9, 8,\n",
       "       6, 7, 5, 6, 0, 9, 0, 0, 7, 4, 8, 4, 6, 1, 8, 5, 4, 7, 2, 6, 2, 6, 5,\n",
       "       4, 4, 0, 0, 1, 3, 5, 3, 1, 0, 9, 1, 6, 8, 0, 3, 7, 5, 9, 8, 3, 1, 6,\n",
       "       1, 8, 3, 2, 8, 0, 8, 8, 8, 3, 5, 4, 4, 4, 7, 2, 3, 7, 4, 0, 0, 8, 2,\n",
       "       8, 9, 6, 1, 8, 9, 5, 5, 1, 5, 2, 2, 9, 0, 7, 9, 5, 9, 3, 7, 2, 9, 1,\n",
       "       3, 7, 4, 3, 6, 9, 7, 5, 0, 6, 7, 1, 5, 6, 0, 2, 0, 9, 0, 4, 7, 2, 6,\n",
       "       1, 6, 2, 9, 2, 1, 9, 8, 4, 8, 7, 7, 1, 0, 5, 6, 2, 9, 6, 7, 8, 4, 0,\n",
       "       3, 5, 0, 7, 0, 9, 6, 1, 3, 6, 2, 7, 0, 2, 2, 3, 7, 7, 0, 3, 9, 1, 8,\n",
       "       5, 7, 6, 7, 2, 0, 8, 4, 3, 9, 5, 5, 5, 5, 8, 9, 3, 4, 5, 4, 4, 3, 6,\n",
       "       5, 0, 5, 1, 4, 7, 8, 1, 9, 5, 8, 3, 5, 2, 3, 3, 1, 5, 5, 2, 9, 0, 0,\n",
       "       7, 2, 0, 9, 5, 9, 6, 1, 6, 8, 4, 7, 9, 7, 2, 8, 4, 7, 7, 8, 6, 1, 7,\n",
       "       0, 3, 8, 5, 3, 6, 1, 4, 6, 2, 1, 6, 7, 7, 7, 6, 7, 8, 5, 5, 8, 1, 0,\n",
       "       6, 7, 3, 2, 4, 8, 3, 5, 7, 1, 7, 8, 1, 8, 0, 3, 2, 0, 8, 8, 0, 9, 4,\n",
       "       9, 8, 7, 5, 2, 6, 4, 1, 2, 6, 4, 7, 4])"
      ]
     },
     "execution_count": 7,
     "metadata": {},
     "output_type": "execute_result"
    }
   ],
   "source": [
    "grid_search.predict(X_test)"
   ]
  },
  {
   "cell_type": "code",
   "execution_count": 8,
   "metadata": {
    "collapsed": false
   },
   "outputs": [
    {
     "data": {
      "text/plain": [
       "0.99555555555555553"
      ]
     },
     "execution_count": 8,
     "metadata": {},
     "output_type": "execute_result"
    }
   ],
   "source": [
    "grid_search.score(X_test, y_test)"
   ]
  },
  {
   "cell_type": "code",
   "execution_count": 9,
   "metadata": {
    "collapsed": false
   },
   "outputs": [
    {
     "data": {
      "text/plain": [
       "{'C': 10.0, 'gamma': 0.001}"
      ]
     },
     "execution_count": 9,
     "metadata": {},
     "output_type": "execute_result"
    }
   ],
   "source": [
    "grid_search.best_params_"
   ]
  },
  {
   "cell_type": "code",
   "execution_count": 10,
   "metadata": {
    "collapsed": false
   },
   "outputs": [
    {
     "data": {
      "image/png": "[encoded data removed]",
      "text/plain": [
       "<matplotlib.figure.Figure at 0x7f68fab8ec50>"
      ]
     },
     "metadata": {},
     "output_type": "display_data"
    }
   ],
   "source": [
    "# We extract just the scores\n",
    "%matplotlib inline\n",
    "import matplotlib.pyplot as plt\n",
    "\n",
    "scores = [x[1] for x in grid_search.grid_scores_]\n",
    "scores = np.array(scores).reshape(6, 5)\n",
    "\n",
    "plt.matshow(scores)\n",
    "plt.xlabel('gamma')\n",
    "plt.ylabel('C')\n",
    "plt.colorbar()\n",
    "plt.xticks(np.arange(5), param_grid['gamma'])\n",
    "plt.yticks(np.arange(6), param_grid['C']);"
   ]
  },
  {
   "cell_type": "markdown",
   "metadata": {
    "collapsed": false
   },
   "source": [
    "# Randomized Search"
   ]
  },
  {
   "cell_type": "code",
   "execution_count": 31,
   "metadata": {
    "collapsed": false
   },
   "outputs": [
    {
     "data": {
      "text/plain": [
       "(array([ 497.,  250.,  125.,   58.,   36.,   18.,    3.,    9.,    3.,    1.]),\n",
       " array([ 0.00121849,  0.6706528 ,  1.34008711,  2.00952142,  2.67895573,\n",
       "         3.34839004,  4.01782436,  4.68725867,  5.35669298,  6.02612729,\n",
       "         6.6955616 ]),\n",
       " <a list of 10 Patch objects>)"
      ]
     },
     "execution_count": 31,
     "metadata": {},
     "output_type": "execute_result"
    },
    {
     "data": {
      "image/png": "[encoded data removed]",
      "text/plain": [
       "<matplotlib.figure.Figure at 0x7f68eeff1250>"
      ]
     },
     "metadata": {},
     "output_type": "display_data"
    }
   ],
   "source": [
    "from sklearn.grid_search import RandomizedSearchCV\n",
    "from scipy.stats import expon\n",
    "\n",
    "plt.hist([expon.rvs() for x in xrange(1000)])"
   ]
  },
  {
   "cell_type": "code",
   "execution_count": 32,
   "metadata": {
    "collapsed": false
   },
   "outputs": [],
   "source": [
    "\n",
    "params = {'C': expon(), 'gamma': expon()}\n",
    "rs = RandomizedSearchCV(SVC(), param_distributions=params, n_iter=50, verbose=3, random_state=0)"
   ]
  },
  {
   "cell_type": "code",
   "execution_count": 33,
   "metadata": {
    "collapsed": false,
    "scrolled": true
   },
   "outputs": [
    {
     "name": "stdout",
     "output_type": "stream",
     "text": [
      "Fitting 3 folds for each of 50 candidates, totalling 150 fits\n",
      "[CV] C=2.89509461466, gamma=0.0404177276729 ..........................\n",
      "[CV] . C=2.89509461466, gamma=0.0404177276729, score=0.172566 -   0.3s\n",
      "[CV] C=2.89509461466, gamma=0.0404177276729 ..........................\n",
      "[CV] . C=2.89509461466, gamma=0.0404177276729, score=0.175947 -   0.3s\n",
      "[CV] C=2.89509461466, gamma=0.0404177276729 ..........................\n",
      "[CV] . C=2.89509461466, gamma=0.0404177276729, score=0.147982 -   0.3s\n",
      "[CV] C=0.608712614311, gamma=1.00816993766 ...........................\n",
      "[CV] .. C=0.608712614311, gamma=1.00816993766, score=0.314159 -   0.2s\n",
      "[CV] C=0.608712614311, gamma=1.00816993766 ...........................\n",
      "[CV] .. C=0.608712614311, gamma=1.00816993766, score=0.207127 -   0.2s\n",
      "[CV] C=0.608712614311, gamma=1.00816993766 ...........................\n",
      "[CV] .. C=0.608712614311, gamma=1.00816993766, score=0.208520 -   0.2s\n",
      "[CV] C=0.42099148494, gamma=0.708273207914 ...........................\n",
      "[CV] .. C=0.42099148494, gamma=0.708273207914, score=0.316372 -   0.2s\n",
      "[CV] C=0.42099148494, gamma=0.708273207914 ...........................\n",
      "[CV] .. C=0.42099148494, gamma=0.708273207914, score=0.207127 -   0.2s\n",
      "[CV] C=0.42099148494, gamma=0.708273207914 ...........................\n",
      "[CV] .. C=0.42099148494, gamma=0.708273207914, score=0.206278 -   0.2s\n",
      "[CV] C=0.139751359919, gamma=0.342590364283 ..........................\n",
      "[CV] . C=0.139751359919, gamma=0.342590364283, score=0.214602 -   0.2s\n",
      "[CV] C=0.139751359919, gamma=0.342590364283 ..........................\n",
      "[CV] . C=0.139751359919, gamma=0.342590364283, score=0.207127 -   0.2s\n",
      "[CV] C=0.139751359919, gamma=0.342590364283 ..........................\n",
      "[CV] . C=0.139751359919, gamma=0.342590364283, score=0.206278 -   0.3s\n",
      "[CV] C=0.746881366594, gamma=0.119972010694 ..........................\n",
      "[CV] . C=0.746881366594, gamma=0.119972010694, score=0.110619 -   0.2s\n",
      "[CV] C=0.746881366594, gamma=0.119972010694 ..........................\n",
      "[CV] . C=0.746881366594, gamma=0.119972010694, score=0.104677 -   0.2s\n",
      "[CV] C=0.746881366594, gamma=0.119972010694 ..........................\n",
      "[CV] . C=0.746881366594, gamma=0.119972010694, score=0.107623 -   0.2s\n",
      "[CV] C=3.812884994, gamma=0.319603647729 .............................\n",
      "[CV] .... C=3.812884994, gamma=0.319603647729, score=0.110619 -   0.2s\n",
      "[CV] C=3.812884994, gamma=0.319603647729 .............................\n",
      "[CV] .... C=3.812884994, gamma=0.319603647729, score=0.104677 -   0.2s\n",
      "[CV] C=3.812884994, gamma=0.319603647729 .............................\n",
      "[CV] .... C=3.812884994, gamma=0.319603647729, score=0.107623 -   0.2s\n",
      "[CV] C=0.395286300057, gamma=0.896010945168 ..........................\n",
      "[CV] . C=0.395286300057, gamma=0.896010945168, score=0.314159 -   0.2s\n",
      "[CV] C=0.395286300057, gamma=0.896010945168 ..........................\n",
      "[CV] . C=0.395286300057, gamma=0.896010945168, score=0.207127 -   0.2s\n",
      "[CV] C=0.395286300057, gamma=0.896010945168 ..........................\n",
      "[CV] . C=0.395286300057, gamma=0.896010945168, score=0.206278 -   0.2s\n",
      "[CV] C=0.130913650406, gamma=1.64946695473 ...........................\n",
      "[CV] .. C=0.130913650406, gamma=1.64946695473, score=0.289823 -   0.2s\n",
      "[CV] C=0.130913650406, gamma=1.64946695473 ...........................\n",
      "[CV] .. C=0.130913650406, gamma=1.64946695473, score=0.191537 -   0.3s\n",
      "[CV] C=0.130913650406, gamma=1.64946695473 ...........................\n",
      "[CV] .. C=0.130913650406, gamma=1.64946695473, score=0.179372 -   0.2s\n",
      "[CV] C=0.676059144399, gamma=0.079207535023 ..........................\n",
      "[CV] . C=0.676059144399, gamma=0.079207535023, score=0.110619 -   0.2s\n",
      "[CV] C=0.676059144399, gamma=0.079207535023 ..........................\n",
      "[CV] . C=0.676059144399, gamma=0.079207535023, score=0.104677 -   0.2s\n",
      "[CV] C=0.676059144399, gamma=0.079207535023 ..........................\n",
      "[CV] . C=0.676059144399, gamma=0.079207535023, score=0.107623 -   0.2s\n",
      "[CV] C=1.10384031891, gamma=1.3690231624 .............................\n",
      "[CV] .... C=1.10384031891, gamma=1.3690231624, score=0.203540 -   0.2s\n",
      "[CV] C=1.10384031891, gamma=1.3690231624 .............................\n",
      "[CV] .... C=1.10384031891, gamma=1.3690231624, score=0.198218 -   0.2s\n",
      "[CV] C=1.10384031891, gamma=1.3690231624 .............................\n",
      "[CV] .... C=1.10384031891, gamma=1.3690231624, score=0.197309 -   0.2s\n",
      "[CV] C=4.57896431906, gamma=4.06751301676 ............................\n",
      "[CV] ... C=4.57896431906, gamma=4.06751301676, score=0.139381 -   0.2s\n",
      "[CV] C=4.57896431906, gamma=4.06751301676 ............................\n",
      "[CV] ... C=4.57896431906, gamma=4.06751301676, score=0.113586 -   0.2s\n",
      "[CV] C=4.57896431906, gamma=4.06751301676 ............................\n",
      "[CV] ... C=4.57896431906, gamma=4.06751301676, score=0.114350 -   0.3s\n",
      "[CV] C=2.47703396039, gamma=0.482244984194 ...........................\n",
      "[CV] .. C=2.47703396039, gamma=0.482244984194, score=0.110619 -   0.2s\n",
      "[CV] C=2.47703396039, gamma=0.482244984194 ...........................\n",
      "[CV] .. C=2.47703396039, gamma=0.482244984194, score=0.104677 -   0.2s\n",
      "[CV] C=2.47703396039, gamma=0.482244984194 ...........................\n",
      "[CV] .. C=2.47703396039, gamma=0.482244984194, score=0.107623 -   0.2s\n",
      "[CV] C=1.4287111072, gamma=0.648252131216 ............................\n",
      "[CV] ... C=1.4287111072, gamma=0.648252131216, score=0.110619 -   0.3s\n",
      "[CV] C=1.4287111072, gamma=0.648252131216 ............................\n",
      "[CV] ... C=1.4287111072, gamma=0.648252131216, score=0.104677 -   0.2s\n",
      "[CV] C=1.4287111072, gamma=0.648252131216 ............................\n",
      "[CV] ... C=1.4287111072, gamma=0.648252131216, score=0.107623 -   0.2s\n",
      "[CV] C=2.44380766844, gamma=0.288273619637 ...........................\n",
      "[CV] .. C=2.44380766844, gamma=0.288273619637, score=0.110619 -   0.2s\n",
      "[CV] C=2.44380766844, gamma=0.288273619637 ...........................\n",
      "[CV] .. C=2.44380766844, gamma=0.288273619637, score=0.104677 -   0.3s\n",
      "[CV] C=2.44380766844, gamma=0.288273619637 ...........................\n",
      "[CV] .. C=2.44380766844, gamma=0.288273619637, score=0.107623 -   0.2s\n",
      "[CV] C=0.777267176719, gamma=1.19184518195 ...........................\n",
      "[CV] .. C=0.777267176719, gamma=1.19184518195, score=0.309735 -   0.2s\n",
      "[CV] C=0.777267176719, gamma=1.19184518195 ...........................\n",
      "[CV] .. C=0.777267176719, gamma=1.19184518195, score=0.202673 -   0.2s\n",
      "[CV] C=0.777267176719, gamma=1.19184518195 ...........................\n",
      "[CV] .. C=0.777267176719, gamma=1.19184518195, score=0.204036 -   0.2s\n",
      "[CV] C=0.505381278429, gamma=0.369367806494 ..........................\n",
      "[CV] . C=0.505381278429, gamma=0.369367806494, score=0.214602 -   0.2s\n",
      "[CV] C=0.505381278429, gamma=0.369367806494 ..........................\n",
      "[CV] . C=0.505381278429, gamma=0.369367806494, score=0.207127 -   0.2s\n",
      "[CV] C=0.505381278429, gamma=0.369367806494 ..........................\n",
      "[CV] . C=0.505381278429, gamma=0.369367806494, score=0.206278 -   0.2s\n",
      "[CV] C=0.354117381421, gamma=0.650079343055 ..........................\n",
      "[CV] . C=0.354117381421, gamma=0.650079343055, score=0.316372 -   0.2s\n",
      "[CV] C=0.354117381421, gamma=0.650079343055 ..........................\n",
      "[CV] . C=0.354117381421, gamma=0.650079343055, score=0.207127 -   0.2s\n",
      "[CV] C=0.354117381421, gamma=0.650079343055 ..........................\n",
      "[CV] . C=0.354117381421, gamma=0.650079343055, score=0.206278 -   0.2s\n",
      "[CV] C=0.844204157329, gamma=1.24770099697 ...........................\n",
      "[CV] .. C=0.844204157329, gamma=1.24770099697, score=0.309735 -   0.2s\n",
      "[CV] C=0.844204157329, gamma=1.24770099697 ...........................\n",
      "[CV] .. C=0.844204157329, gamma=1.24770099697, score=0.198218 -   0.2s\n",
      "[CV] C=0.844204157329, gamma=1.24770099697 ...........................\n",
      "[CV] .. C=0.844204157329, gamma=1.24770099697, score=0.204036 -   0.2s\n",
      "[CV] C=0.443123280013, gamma=1.47158771967 ...........................\n",
      "[CV] .. C=0.443123280013, gamma=1.47158771967, score=0.300885 -   0.2s\n",
      "[CV] C=0.443123280013, gamma=1.47158771967 ...........................\n",
      "[CV] .. C=0.443123280013, gamma=1.47158771967, score=0.193764 -   0.2s\n",
      "[CV] C=0.443123280013, gamma=1.47158771967 ...........................\n",
      "[CV] .. C=0.443123280013, gamma=1.47158771967, score=0.190583 -   0.2s\n",
      "[CV] C=1.32728009096, gamma=0.330547069372 ...........................\n",
      "[CV] .. C=1.32728009096, gamma=0.330547069372, score=0.110619 -   0.2s\n",
      "[CV] C=1.32728009096, gamma=0.330547069372 ...........................\n",
      "[CV] .. C=1.32728009096, gamma=0.330547069372, score=0.104677 -   0.2s\n",
      "[CV] C=1.32728009096, gamma=0.330547069372 ...........................\n",
      "[CV] .. C=1.32728009096, gamma=0.330547069372, score=0.107623 -   0.2s\n",
      "[CV] C=1.14245833046, gamma=3.51582211847 ............................\n",
      "[CV] ... C=1.14245833046, gamma=3.51582211847, score=0.154867 -   0.2s\n",
      "[CV] C=1.14245833046, gamma=3.51582211847 ............................\n",
      "[CV] ... C=1.14245833046, gamma=3.51582211847, score=0.118040 -   0.2s\n",
      "[CV] C=1.14245833046, gamma=3.51582211847 ............................\n",
      "[CV] ... C=1.14245833046, gamma=3.51582211847, score=0.116592 -   0.2s\n",
      "[CV] C=0.669051797446, gamma=2.88862543468 ...........................\n",
      "[CV] .. C=0.669051797446, gamma=2.88862543468, score=0.185841 -   0.2s\n",
      "[CV] C=0.669051797446, gamma=2.88862543468 ...........................\n",
      "[CV] .. C=0.669051797446, gamma=2.88862543468, score=0.140312 -   0.2s\n",
      "[CV] C=0.669051797446, gamma=2.88862543468 ...........................\n",
      "[CV] .. C=0.669051797446, gamma=2.88862543468, score=0.130045 -   0.2s\n",
      "[CV] C=0.144444769832, gamma=0.821871146543 ..........................\n",
      "[CV] . C=0.144444769832, gamma=0.821871146543, score=0.314159 -   0.2s\n",
      "[CV] C=0.144444769832, gamma=0.821871146543 ..........................\n",
      "[CV] . C=0.144444769832, gamma=0.821871146543, score=0.207127 -   0.2s\n",
      "[CV] C=0.144444769832, gamma=0.821871146543 ..........................\n",
      "[CV] . C=0.144444769832, gamma=0.821871146543, score=0.206278 -   0.2s\n",
      "[CV] C=0.151268222861, gamma=0.738483053545 ..........................\n",
      "[CV] . C=0.151268222861, gamma=0.738483053545, score=0.316372 -   0.2s\n",
      "[CV] C=0.151268222861, gamma=0.738483053545 ..........................\n",
      "[CV] . C=0.151268222861, gamma=0.738483053545, score=0.207127 -   0.2s\n",
      "[CV] C=0.151268222861, gamma=0.738483053545 ..........................\n",
      "[CV] . C=0.151268222861, gamma=0.738483053545, score=0.206278 -   0.2s\n",
      "[CV] C=0.909702848636, gamma=0.148490537489 ..........................\n",
      "[CV] . C=0.909702848636, gamma=0.148490537489, score=0.108407 -   0.2s\n",
      "[CV] C=0.909702848636, gamma=0.148490537489 ..........................\n",
      "[CV] . C=0.909702848636, gamma=0.148490537489, score=0.104677 -   0.2s\n",
      "[CV] C=0.909702848636, gamma=0.148490537489 ..........................\n",
      "[CV] . C=0.909702848636, gamma=0.148490537489, score=0.105381 -   0.2s\n",
      "[CV] C=0.806635249807, gamma=0.043845626252 ..........................\n",
      "[CV] . C=0.806635249807, gamma=0.043845626252, score=0.110619 -   0.2s\n",
      "[CV] C=0.806635249807, gamma=0.043845626252 ..........................\n",
      "[CV] . C=0.806635249807, gamma=0.043845626252, score=0.109131 -   0.3s\n",
      "[CV] C=0.806635249807, gamma=0.043845626252 ..........................\n",
      "[CV] . C=0.806635249807, gamma=0.043845626252, score=0.107623 -   0.3s\n",
      "[CV] C=0.60332600981, gamma=0.897088688165 ...........................\n",
      "[CV] .. C=0.60332600981, gamma=0.897088688165, score=0.314159 -   0.2s\n",
      "[CV] C=0.60332600981, gamma=0.897088688165 ...........................\n",
      "[CV] .. C=0.60332600981, gamma=0.897088688165, score=0.207127 -   0.2s\n",
      "[CV] C=0.60332600981, gamma=0.897088688165 ...........................\n",
      "[CV] .. C=0.60332600981, gamma=0.897088688165, score=0.206278 -   0.2s\n",
      "[CV] C=1.6586133206, gamma=0.497056298283 ............................\n",
      "[CV] ... C=1.6586133206, gamma=0.497056298283, score=0.110619 -   0.2s\n",
      "[CV] C=1.6586133206, gamma=0.497056298283 ............................\n",
      "[CV] ... C=1.6586133206, gamma=0.497056298283, score=0.104677 -   0.2s\n",
      "[CV] C=1.6586133206, gamma=0.497056298283 ............................\n",
      "[CV] ... C=1.6586133206, gamma=0.497056298283, score=0.107623 -   0.2s\n",
      "[CV] C=1.30144551036, gamma=0.301325761898 ...........................\n",
      "[CV] .. C=1.30144551036, gamma=0.301325761898, score=0.110619 -   0.2s\n",
      "[CV] C=1.30144551036, gamma=0.301325761898 ...........................\n",
      "[CV] .. C=1.30144551036, gamma=0.301325761898, score=0.104677 -   0.2s\n",
      "[CV] C=1.30144551036, gamma=0.301325761898 ...........................\n",
      "[CV] .. C=1.30144551036, gamma=0.301325761898, score=0.107623 -   0.2s\n",
      "[CV] C=0.474168167038, gamma=1.75307245255 ...........................\n",
      "[CV] .. C=0.474168167038, gamma=1.75307245255, score=0.283186 -   0.2s\n",
      "[CV] C=0.474168167038, gamma=1.75307245255 ...........................\n",
      "[CV] .. C=0.474168167038, gamma=1.75307245255, score=0.191537 -   0.2s\n",
      "[CV] C=0.474168167038, gamma=1.75307245255 ...........................\n",
      "[CV] .. C=0.474168167038, gamma=1.75307245255, score=0.174888 -   0.2s\n",
      "[CV] C=0.142124016367, gamma=1.27750797068 ...........................\n",
      "[CV] .. C=0.142124016367, gamma=1.27750797068, score=0.309735 -   0.2s\n",
      "[CV] C=0.142124016367, gamma=1.27750797068 ...........................\n",
      "[CV] .. C=0.142124016367, gamma=1.27750797068, score=0.198218 -   0.2s\n",
      "[CV] C=0.142124016367, gamma=1.27750797068 ...........................\n",
      "[CV] .. C=0.142124016367, gamma=1.27750797068, score=0.204036 -   0.2s\n",
      "[CV] C=3.36591911416, gamma=1.30392791499 ............................\n",
      "[CV] ... C=3.36591911416, gamma=1.30392791499, score=0.205752 -   0.2s\n",
      "[CV] C=3.36591911416, gamma=1.30392791499 ............................\n",
      "[CV] ... C=3.36591911416, gamma=1.30392791499, score=0.198218 -   0.2s\n",
      "[CV] C=3.36591911416, gamma=1.30392791499 ............................\n",
      "[CV] ... C=3.36591911416, gamma=1.30392791499, score=0.204036 -   0.2s\n",
      "[CV] C=0.476646209333, gamma=2.25364102472 ...........................\n",
      "[CV] .. C=0.476646209333, gamma=2.25364102472, score=0.236726 -   0.2s\n",
      "[CV] C=0.476646209333, gamma=2.25364102472 ...........................\n",
      "[CV] .. C=0.476646209333, gamma=2.25364102472, score=0.169265 -   0.2s\n",
      "[CV] C=0.476646209333, gamma=2.25364102472 ...........................\n",
      "[CV] .. C=0.476646209333, gamma=2.25364102472, score=0.150224 -   0.2s\n",
      "[CV] C=1.68973215524, gamma=0.106100143776 ...........................\n",
      "[CV] .. C=1.68973215524, gamma=0.106100143776, score=0.115044 -   0.3s\n",
      "[CV] C=1.68973215524, gamma=0.106100143776 ...........................\n",
      "[CV] .. C=1.68973215524, gamma=0.106100143776, score=0.109131 -   0.2s\n",
      "[CV] C=1.68973215524, gamma=0.106100143776 ...........................\n",
      "[CV] .. C=1.68973215524, gamma=0.106100143776, score=0.107623 -   0.3s\n",
      "[CV] C=0.770218697908, gamma=0.916212160299 ..........................\n",
      "[CV] . C=0.770218697908, gamma=0.916212160299, score=0.314159 -   0.2s\n",
      "[CV] C=0.770218697908, gamma=0.916212160299 ..........................\n",
      "[CV] . C=0.770218697908, gamma=0.916212160299, score=0.207127 -   0.2s\n",
      "[CV] C=0.770218697908, gamma=0.916212160299 ..........................\n",
      "[CV] . C=0.770218697908, gamma=0.916212160299, score=0.206278 -   0.2s\n",
      "[CV] C=0.292388182528, gamma=0.0591848849322 .........................\n",
      "[CV]  C=0.292388182528, gamma=0.0591848849322, score=0.110619 -   0.2s\n",
      "[CV] C=0.292388182528, gamma=0.0591848849322 .........................\n",
      "[CV]  C=0.292388182528, gamma=0.0591848849322, score=0.104677 -   0.3s\n",
      "[CV] C=0.292388182528, gamma=0.0591848849322 .........................\n",
      "[CV]  C=0.292388182528, gamma=0.0591848849322, score=0.107623 -   0.2s\n",
      "[CV] C=1.05324903309, gamma=0.402612833533 ...........................\n",
      "[CV] .. C=1.05324903309, gamma=0.402612833533, score=0.110619 -   0.2s\n",
      "[CV] C=1.05324903309, gamma=0.402612833533 ...........................\n",
      "[CV] .. C=1.05324903309, gamma=0.402612833533, score=0.104677 -   0.2s\n",
      "[CV] C=1.05324903309, gamma=0.402612833533 ...........................\n",
      "[CV] .. C=1.05324903309, gamma=0.402612833533, score=0.107623 -   0.2s\n",
      "[CV] C=1.7595010984, gamma=0.614560029286 ............................\n",
      "[CV] ... C=1.7595010984, gamma=0.614560029286, score=0.110619 -   0.2s\n",
      "[CV] C=1.7595010984, gamma=0.614560029286 ............................\n",
      "[CV] ... C=1.7595010984, gamma=0.614560029286, score=0.104677 -   0.2s\n",
      "[CV] C=1.7595010984, gamma=0.614560029286 ............................\n",
      "[CV] ... C=1.7595010984, gamma=0.614560029286, score=0.107623 -   0.2s\n",
      "[CV] C=1.77168289528, gamma=7.04465434604 ............................\n",
      "[CV] ... C=1.77168289528, gamma=7.04465434604, score=0.110619 -   0.2s\n",
      "[CV] C=1.77168289528, gamma=7.04465434604 ............................\n",
      "[CV] ... C=1.77168289528, gamma=7.04465434604, score=0.104677 -   0.3s\n",
      "[CV] C=1.77168289528, gamma=7.04465434604 ............................\n",
      "[CV] ... C=1.77168289528, gamma=7.04465434604, score=0.105381 -   0.2s\n",
      "[CV] C=0.383295313525, gamma=0.0276114090426 .........................\n",
      "[CV]  C=0.383295313525, gamma=0.0276114090426, score=0.115044 -   0.2s\n",
      "[CV] C=0.383295313525, gamma=0.0276114090426 .........................\n",
      "[CV]  C=0.383295313525, gamma=0.0276114090426, score=0.122494 -   0.2s\n",
      "[CV] C=0.383295313525, gamma=0.0276114090426 .........................\n",
      "[CV]  C=0.383295313525, gamma=0.0276114090426, score=0.109865 -   0.2s\n",
      "[CV] C=0.561320787133, gamma=0.768773450851 ..........................\n",
      "[CV] . C=0.561320787133, gamma=0.768773450851, score=0.314159 -   0.2s\n",
      "[CV] C=0.561320787133, gamma=0.768773450851 ..........................\n",
      "[CV] . C=0.561320787133, gamma=0.768773450851, score=0.207127 -   0.2s\n",
      "[CV] C=0.561320787133, gamma=0.768773450851 ..........................\n",
      "[CV] . C=0.561320787133, gamma=0.768773450851, score=0.206278 -   0.2s\n",
      "[CV] C=0.0165771794431, gamma=2.72942946981 ..........................\n",
      "[CV] . C=0.0165771794431, gamma=2.72942946981, score=0.199115 -   0.2s\n",
      "[CV] C=0.0165771794431, gamma=2.72942946981 ..........................\n",
      "[CV] . C=0.0165771794431, gamma=2.72942946981, score=0.146993 -   0.2s\n",
      "[CV] C=0.0165771794431, gamma=2.72942946981 ..........................\n",
      "[CV] . C=0.0165771794431, gamma=2.72942946981, score=0.136771 -   0.2s\n",
      "[CV] C=0.926857342656, gamma=0.128943266739 ..........................\n",
      "[CV] . C=0.926857342656, gamma=0.128943266739, score=0.110619 -   0.3s"
     ]
    },
    {
     "name": "stderr",
     "output_type": "stream",
     "text": [
      "[Parallel(n_jobs=1)]: Done  31 tasks       | elapsed:    6.7s\n",
      "[Parallel(n_jobs=1)]: Done 127 tasks       | elapsed:   26.8s\n"
     ]
    },
    {
     "name": "stdout",
     "output_type": "stream",
     "text": [
      "\n",
      "[CV] C=0.926857342656, gamma=0.128943266739 ..........................\n",
      "[CV] . C=0.926857342656, gamma=0.128943266739, score=0.104677 -   0.3s\n",
      "[CV] C=0.926857342656, gamma=0.128943266739 ..........................\n",
      "[CV] . C=0.926857342656, gamma=0.128943266739, score=0.107623 -   0.3s\n",
      "[CV] C=0.368935919739, gamma=0.120456754904 ..........................\n",
      "[CV] . C=0.368935919739, gamma=0.120456754904, score=0.110619 -   0.3s\n",
      "[CV] C=0.368935919739, gamma=0.120456754904 ..........................\n",
      "[CV] . C=0.368935919739, gamma=0.120456754904, score=0.104677 -   0.3s\n",
      "[CV] C=0.368935919739, gamma=0.120456754904 ..........................\n",
      "[CV] . C=0.368935919739, gamma=0.120456754904, score=0.107623 -   0.4s\n",
      "[CV] C=3.6436142588, gamma=0.473443066346 ............................\n",
      "[CV] ... C=3.6436142588, gamma=0.473443066346, score=0.110619 -   0.4s\n",
      "[CV] C=3.6436142588, gamma=0.473443066346 ............................\n",
      "[CV] ... C=3.6436142588, gamma=0.473443066346, score=0.104677 -   0.3s\n",
      "[CV] C=3.6436142588, gamma=0.473443066346 ............................\n",
      "[CV] ... C=3.6436142588, gamma=0.473443066346, score=0.107623 -   0.3s\n",
      "[CV] C=0.428601247519, gamma=0.0418040051423 .........................\n",
      "[CV]  C=0.428601247519, gamma=0.0418040051423, score=0.112832 -   0.3s\n",
      "[CV] C=0.428601247519, gamma=0.0418040051423 .........................\n",
      "[CV]  C=0.428601247519, gamma=0.0418040051423, score=0.109131 -   0.3s\n",
      "[CV] C=0.428601247519, gamma=0.0418040051423 .........................\n",
      "[CV]  C=0.428601247519, gamma=0.0418040051423, score=0.107623 -   0.3s\n",
      "[CV] C=0.812124263952, gamma=1.64326144502 ...........................\n",
      "[CV] .. C=0.812124263952, gamma=1.64326144502, score=0.289823 -   0.2s\n",
      "[CV] C=0.812124263952, gamma=1.64326144502 ...........................\n",
      "[CV] .. C=0.812124263952, gamma=1.64326144502, score=0.191537 -   0.2s\n",
      "[CV] C=0.812124263952, gamma=1.64326144502 ...........................\n",
      "[CV] .. C=0.812124263952, gamma=1.64326144502, score=0.179372 -   0.2s\n",
      "[CV] C=0.869480407748, gamma=0.844750882299 ..........................\n",
      "[CV] . C=0.869480407748, gamma=0.844750882299, score=0.314159 -   0.5s\n",
      "[CV] C=0.869480407748, gamma=0.844750882299 ..........................\n",
      "[CV] . C=0.869480407748, gamma=0.844750882299, score=0.207127 -   0.4s\n",
      "[CV] C=0.869480407748, gamma=0.844750882299 ..........................\n",
      "[CV] . C=0.869480407748, gamma=0.844750882299, score=0.206278 -   0.4s\n",
      "[CV] C=1.4953632695, gamma=0.185780530613 ............................\n",
      "[CV] ... C=1.4953632695, gamma=0.185780530613, score=0.110619 -   0.5s\n",
      "[CV] C=1.4953632695, gamma=0.185780530613 ............................\n",
      "[CV] ... C=1.4953632695, gamma=0.185780530613, score=0.104677 -   0.6s\n",
      "[CV] C=1.4953632695, gamma=0.185780530613 ............................\n",
      "[CV] ... C=1.4953632695, gamma=0.185780530613, score=0.107623 -   0.6s\n",
      "[CV] C=2.39189921459, gamma=0.330286563799 ...........................\n",
      "[CV] .. C=2.39189921459, gamma=0.330286563799, score=0.110619 -   0.6s\n",
      "[CV] C=2.39189921459, gamma=0.330286563799 ...........................\n",
      "[CV] .. C=2.39189921459, gamma=0.330286563799, score=0.104677 -   0.6s\n",
      "[CV] C=2.39189921459, gamma=0.330286563799 ...........................\n",
      "[CV] .. C=2.39189921459, gamma=0.330286563799, score=0.107623 -   0.6s\n"
     ]
    },
    {
     "name": "stderr",
     "output_type": "stream",
     "text": [
      "[Parallel(n_jobs=1)]: Done 150 out of 150 | elapsed:   35.9s finished\n"
     ]
    },
    {
     "data": {
      "text/plain": [
       "RandomizedSearchCV(cv=None, error_score='raise',\n",
       "          estimator=SVC(C=1.0, cache_size=200, class_weight=None, coef0=0.0,\n",
       "  decision_function_shape=None, degree=3, gamma='auto', kernel='rbf',\n",
       "  max_iter=-1, probability=False, random_state=None, shrinking=True,\n",
       "  tol=0.001, verbose=False),\n",
       "          fit_params={}, iid=True, n_iter=50, n_jobs=1,\n",
       "          param_distributions={'C': <scipy.stats._distn_infrastructure.rv_frozen object at 0x7f68eee77090>, 'gamma': <scipy.stats._distn_infrastructure.rv_frozen object at 0x7f68eeedbc10>},\n",
       "          pre_dispatch='2*n_jobs', random_state=0, refit=True,\n",
       "          scoring=None, verbose=3)"
      ]
     },
     "execution_count": 33,
     "metadata": {},
     "output_type": "execute_result"
    }
   ],
   "source": [
    "rs.fit(X_train, y_train)"
   ]
  },
  {
   "cell_type": "code",
   "execution_count": 25,
   "metadata": {
    "collapsed": false
   },
   "outputs": [
    {
     "data": {
      "text/plain": [
       "{'C': 0.7372672568007005, 'gamma': 0.6335919791713512}"
      ]
     },
     "execution_count": 25,
     "metadata": {},
     "output_type": "execute_result"
    }
   ],
   "source": [
    "rs.best_params_"
   ]
  },
  {
   "cell_type": "code",
   "execution_count": 26,
   "metadata": {
    "collapsed": false
   },
   "outputs": [
    {
     "data": {
      "text/plain": [
       "0.24350408314773572"
      ]
     },
     "execution_count": 26,
     "metadata": {},
     "output_type": "execute_result"
    }
   ],
   "source": [
    "rs.best_score_"
   ]
  },
  {
   "cell_type": "code",
   "execution_count": 27,
   "metadata": {
    "collapsed": true
   },
   "outputs": [],
   "source": [
    "scores, Cs, gammas = zip(*[(score.mean_validation_score, score.parameters['C'], score.parameters['gamma']) for score in rs.grid_scores_])"
   ]
  },
  {
   "cell_type": "code",
   "execution_count": 28,
   "metadata": {
    "collapsed": false
   },
   "outputs": [
    {
     "data": {
      "text/plain": [
       "<matplotlib.collections.PathCollection at 0x7f68ef2cd090>"
      ]
     },
     "execution_count": 28,
     "metadata": {},
     "output_type": "execute_result"
    },
    {
     "data": {
      "image/png": "[encoded data removed]",
      "text/plain": [
       "<matplotlib.figure.Figure at 0x7f68ef54a050>"
      ]
     },
     "metadata": {},
     "output_type": "display_data"
    }
   ],
   "source": [
    "plt.xlabel(\"C\")\n",
    "plt.ylabel(\"gamma\")\n",
    "plt.yscale(\"log\")\n",
    "plt.xscale(\"log\")\n",
    "plt.scatter(Cs, gammas, s=40, c=scores)"
   ]
  },
  {
   "cell_type": "code",
   "execution_count": null,
   "metadata": {
    "collapsed": true
   },
   "outputs": [],
   "source": []
  }
 ],
 "metadata": {
  "kernelspec": {
   "display_name": "Python 2",
   "language": "python",
   "name": "python2"
  },
  "language_info": {
   "codemirror_mode": {
    "name": "ipython",
    "version": 2
   },
   "file_extension": ".py",
   "mimetype": "text/x-python",
   "name": "python",
   "nbconvert_exporter": "python",
   "pygments_lexer": "ipython2",
   "version": "2.7.9"
  }
 },
 "nbformat": 4,
 "nbformat_minor": 0
}
